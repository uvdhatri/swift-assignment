{
  "nbformat": 4,
  "nbformat_minor": 0,
  "metadata": {
    "colab": {
      "provenance": [],
      "authorship_tag": "ABX9TyP+xTrzvqPjLek2mNaKTgpt",
      "include_colab_link": true
    },
    "kernelspec": {
      "name": "python3",
      "display_name": "Python 3"
    },
    "language_info": {
      "name": "python"
    }
  },
  "cells": [
    {
      "cell_type": "markdown",
      "metadata": {
        "id": "view-in-github",
        "colab_type": "text"
      },
      "source": [
        "<a href=\"https://colab.research.google.com/github/uvdhatri/swift-assignment/blob/main/Swift_Assignment.ipynb\" target=\"_parent\"><img src=\"https://colab.research.google.com/assets/colab-badge.svg\" alt=\"Open In Colab\"/></a>"
      ]
    },
    {
      "cell_type": "markdown",
      "source": [
        "**E-commerce Sales Analysis Report**\n",
        "1. Introduction\n",
        "This report presents an analysis of e-commerce sales data for various SKUs across different categories and subcategories. The analysis aims to provide actionable insights for optimizing sales performance, identifying sales events, and understanding SKU performance.\n",
        "\n",
        "2. Data Overview\n",
        "The analysis is based on two datasets:\n",
        "\n",
        "Sales Data: Contains SKU-wise sales information, including ordered revenue, units sold, and out-of-stock percentages.\n",
        "Glance Views Data: Contains SKU-wise data on page views and units sold.\n",
        "3. Analysis and Insights\n",
        "3.1 Most Expensive SKU (On Average)\n",
        "Objective: Identify the SKU with the highest average price per unit over the entire period.\n",
        "Methodology:\n",
        "Calculated the average price per unit for each SKU as ORDERED_REVENUE / ORDERED_UNITS.\n",
        "Identified the SKU with the highest average price.\n",
        "Result: The most expensive SKU is [SKU_NAME] with an average price of [Average_Price].\n",
        "3.2 Percentage of SKUs Generating Revenue\n",
        "Objective: Determine what percentage of SKUs generated revenue during the period.\n",
        "Methodology:\n",
        "Filtered SKUs with ORDERED_REVENUE > 0.\n",
        "Calculated the percentage of these SKUs relative to the total number of SKUs.\n",
        "Result: [Percentage]% of SKUs generated revenue during the period.\n",
        "Additional Insight: SKUs that stopped selling completely after July were identified, highlighting potential product lifecycle or stock issues.\n",
        "3.3 Identification of Sale Event Dates\n",
        "Objective: Identify dates corresponding to sale events.\n",
        "Methodology:\n",
        "Analyzed daily revenue spikes by calculating percentage changes in daily total revenue.\n",
        "Significant spikes were identified as potential sale event dates.\n",
        "Result: Sale events were identified on [Sale_Event_Dates].\n",
        "3.4 Cannibalization of Sales Post-Sale Event\n",
        "Objective: Determine if sales were cannibalized immediately after sale events.\n",
        "Methodology:\n",
        "Compared total revenue in the 7 days before and after each identified sale event.\n",
        "Conducted a paired t-test to statistically assess the impact.\n",
        "Result: Sales were [cannibalized/not cannibalized] post-sale events, with a p-value of [P_Value], indicating [significance/no significance].\n",
        "3.5 Slowest Growing Subcategory in Each Category\n",
        "Objective: Identify the subcategory with the slowest growth relative to its category.\n",
        "Methodology:\n",
        "Calculated growth for each subcategory by comparing initial and final revenue.\n",
        "Identified the subcategory with the lowest growth rate within each category.\n",
        "Result: The slowest-growing subcategory in [Category] is [Sub_Category].\n",
        "3.6 Data Anomalies and Quality Issues\n",
        "Objective: Highlight any anomalies or data quality issues.\n",
        "Methodology:\n",
        "Identified cases where revenue was positive despite no units being sold.\n",
        "Detected outliers in price per unit and missing data.\n",
        "Result: Notable anomalies include [Anomalies], which could indicate data entry errors or inconsistencies.\n",
        "3.7 Unit Conversion and Average Selling Price for SKU C120[H:8NV]\n",
        "Objective: Determine if the unit conversion rate is affected by the average selling price.\n",
        "Methodology:\n",
        "Analyzed the relationship between conversion rate (Units/Views) and average selling price.\n",
        "Conducted a correlation analysis to assess the relationship.\n",
        "Result: The correlation between conversion rate and selling price is [Correlation_Coefficient], indicating [strong/weak/no] relationship.\n",
        "4. Recommendations\n",
        "Based on the analysis:\n",
        "\n",
        "For Underperforming Subcategories: Consider revisiting the product strategy for subcategories like [Slowest_Subcategory] to improve performance.\n",
        "Stock Management: Monitor SKUs that have stopped selling, as they may require restocking or promotional efforts.\n",
        "Sale Events: Optimize post-sale strategies to prevent sales cannibalization, ensuring sustained sales momentum.\n",
        "5. Conclusion\n",
        "The analysis provided insights into SKU performance, sales events, and data quality. These findings can help inform strategies to boost e-commerce revenue and enhance product management.\n",
        "\n"
      ],
      "metadata": {
        "id": "Jsj6Xkrkez98"
      }
    },
    {
      "cell_type": "markdown",
      "source": [
        "**Data Cleaning**"
      ],
      "metadata": {
        "id": "jROX_otqa-Tr"
      }
    },
    {
      "cell_type": "code",
      "source": [
        "import pandas as pd # Import the pandas library\n",
        "\n",
        "# Assuming 'sales_data.csv' and 'glance_views.csv' are in the current directory\n",
        "sales_data = pd.read_csv('Sales_Data.csv') # Load the sales data\n",
        "glance_views = pd.read_csv('Glance_Views.csv') # Load the glance views data\n",
        "\n",
        "# Remove the index columns since they are not needed\n",
        "sales_data_cleaned = sales_data.drop(columns=['Unnamed: 0'])\n",
        "glance_views_cleaned = glance_views.drop(columns=['Unnamed: 0'])\n",
        "\n",
        "# Convert FEED_DATE to datetime format for easier analysis\n",
        "sales_data_cleaned['FEED_DATE'] = pd.to_datetime(sales_data_cleaned['FEED_DATE'])\n",
        "glance_views_cleaned['FEED_DATE'] = pd.to_datetime(glance_views_cleaned['FEED_DATE'])\n",
        "\n",
        "# Check the cleaned data\n",
        "sales_data_cleaned.head(), glance_views_cleaned.head()"
      ],
      "metadata": {
        "colab": {
          "base_uri": "https://localhost:8080/"
        },
        "id": "jybf_ENCbCZZ",
        "outputId": "3fc44bd8-82fb-4d76-a0c2-ed934b761829"
      },
      "execution_count": 4,
      "outputs": [
        {
          "output_type": "execute_result",
          "data": {
            "text/plain": [
              "(     SKU_NAME  FEED_DATE     CATEGORY SUB_CATEGORY  ORDERED_REVENUE  \\\n",
              " 0  B12020KBUI 2019-05-18  1000 Inputs    1002 Mice              0.0   \n",
              " 1  B12020KBUI 2019-05-19  1000 Inputs    1002 Mice              0.0   \n",
              " 2  B12020KBUI 2019-05-22  1000 Inputs    1002 Mice              0.0   \n",
              " 3  B12020KBUI 2019-05-23  1000 Inputs    1002 Mice              0.0   \n",
              " 4  B12020KBUI 2019-05-27  1000 Inputs    1002 Mice              0.0   \n",
              " \n",
              "    ORDERED_UNITS  REP_OOS  \n",
              " 0            0.0      0.0  \n",
              " 1            0.0      0.0  \n",
              " 2            0.0      0.0  \n",
              " 3            0.0      0.0  \n",
              " 4            0.0      0.0  ,\n",
              "      SKU_NAME  FEED_DATE  VIEWS  UNITS\n",
              " 0  B1212:PZ:V 2019-05-01  455.0   16.0\n",
              " 1  B1212:PZ:V 2019-05-02  478.0   12.0\n",
              " 2  B1212:PZ:V 2019-05-03  681.0   42.0\n",
              " 3  B1212:PZ:V 2019-05-04  662.0   70.0\n",
              " 4  B1212:PZ:V 2019-05-05  568.0   33.0)"
            ]
          },
          "metadata": {},
          "execution_count": 4
        }
      ]
    },
    {
      "cell_type": "markdown",
      "source": [
        "2. **What percentage of SKUs have generated some revenue during this time period?**\n",
        "To calculate this:\n",
        "\n",
        "Filter SKUs with Revenue: Filter the sales_data to identify SKUs where ORDERED_REVENUE is greater than 0.\n",
        "Calculate the Percentage:\n",
        "Determine the total number of unique SKUs in the dataset.\n",
        "Calculate the number of unique SKUs with some revenue.\n",
        "Divide the number of SKUs with revenue by the total number of SKUs and multiply by 100 to get the percentage.\n",
        "Brownie Points: Identify SKUs that stopped selling after July.\n",
        "\n",
        "Filter SKUs with revenue before July and no revenue after July."
      ],
      "metadata": {
        "id": "B8OyPNXJbvnH"
      }
    },
    {
      "cell_type": "code",
      "source": [
        "# Calculate the total number of unique SKUs\n",
        "total_skus = sales_data_cleaned['SKU_NAME'].nunique()\n",
        "\n",
        "# Calculate the number of SKUs that have generated some revenue\n",
        "skus_with_revenue = sales_data_cleaned[sales_data_cleaned['ORDERED_REVENUE'] > 0]['SKU_NAME'].nunique()\n",
        "\n",
        "# Calculate the percentage of SKUs with revenue\n",
        "percentage_with_revenue = (skus_with_revenue / total_skus) * 100\n",
        "\n",
        "# Display the result\n",
        "percentage_with_revenue\n"
      ],
      "metadata": {
        "colab": {
          "base_uri": "https://localhost:8080/"
        },
        "id": "iWRayZCjbqL8",
        "outputId": "516723f4-1344-4b3f-c5d8-59d8ff8f3f54"
      },
      "execution_count": 5,
      "outputs": [
        {
          "output_type": "execute_result",
          "data": {
            "text/plain": [
              "78.70967741935485"
            ]
          },
          "metadata": {},
          "execution_count": 5
        }
      ]
    },
    {
      "cell_type": "markdown",
      "source": [
        "**Brownie Points**: Identify SKUs that stopped selling completely after July"
      ],
      "metadata": {
        "id": "xbFH8iHVb1gw"
      }
    },
    {
      "cell_type": "code",
      "source": [
        "# Filter data before and after July\n",
        "before_july = sales_data_cleaned[sales_data_cleaned['FEED_DATE'] < '2019-08-01']\n",
        "after_july = sales_data_cleaned[sales_data_cleaned['FEED_DATE'] >= '2019-08-01']\n",
        "\n",
        "# SKUs with revenue before July\n",
        "skus_before_july = before_july[before_july['ORDERED_REVENUE'] > 0]['SKU_NAME'].unique()\n",
        "\n",
        "# SKUs with revenue after July\n",
        "skus_after_july = after_july[after_july['ORDERED_REVENUE'] > 0]['SKU_NAME'].unique()\n",
        "\n",
        "# SKUs that stopped selling after July\n",
        "skus_stopped_selling = set(skus_before_july) - set(skus_after_july)\n",
        "\n",
        "# Display the result\n",
        "skus_stopped_selling"
      ],
      "metadata": {
        "colab": {
          "base_uri": "https://localhost:8080/"
        },
        "id": "Gsk3ndNab6Gw",
        "outputId": "5688de1e-4162-4b7f-f6ae-cd7672423136"
      },
      "execution_count": 6,
      "outputs": [
        {
          "output_type": "execute_result",
          "data": {
            "text/plain": [
              "{'B00;3H5XG9',\n",
              " 'B012GU7SOL',\n",
              " 'B07XI2QS2Z',\n",
              " 'B08:;5YP75',\n",
              " 'B08Y472N[U',\n",
              " 'B09FIZS5TZ',\n",
              " 'B10:1TJG86',\n",
              " 'B10LJIXFL0',\n",
              " 'B116DUQLEB',\n",
              " 'B11CDKYM3J',\n",
              " 'B12MWAOCYI',\n",
              " 'B1826\\\\GXMM',\n",
              " 'B20EKD5JF4',\n",
              " 'B21B6UON52',\n",
              " 'B225I326ET',\n",
              " 'C019:8WTE8',\n",
              " 'C02228YPPT',\n",
              " 'C02JAMMO55',\n",
              " 'C035O8\\\\UJC',\n",
              " 'C076JT7:XY',\n",
              " 'C079F4K8DN',\n",
              " 'C07S8PDLZX',\n",
              " 'C12GZK3L49',\n",
              " 'C13EHKRAS4',\n",
              " 'C17672PZ9O',\n",
              " 'C17E92HXZK',\n",
              " 'C17EHWN2PD',\n",
              " 'C17NEDU7P[',\n",
              " 'C1964PSQ[N',\n",
              " 'C19T:CGV3L',\n",
              " 'C20VWL6T29',\n",
              " 'C22;9UNFXQ',\n",
              " 'C28S6S9HS[',\n",
              " 'C29LCOGDHZ',\n",
              " 'D02DR5SY3I',\n",
              " 'D03O20QQDE',\n",
              " 'D07;D:4VGR',\n",
              " 'D11I165;6C',\n",
              " 'D125M8\\\\P:T',\n",
              " 'D12EDZB8H8',\n",
              " 'D187XMSWL3',\n",
              " 'D1883SDB64',\n",
              " 'D218T1DTFG',\n",
              " 'D21J9KN6Y6',\n",
              " 'D22TZCQYWC',\n",
              " 'D236O:ZQ92',\n",
              " 'D278[PCGZN',\n",
              " 'D27IO46C5P',\n",
              " 'D28EGTXVWH'}"
            ]
          },
          "metadata": {},
          "execution_count": 6
        }
      ]
    },
    {
      "cell_type": "markdown",
      "source": [
        "3**. Identify the Sale Event Dates**\n",
        "To identify when a sale event might have occurred:\n",
        "\n",
        "Check for Spikes in Sales:\n",
        "Calculate daily total revenue by summing up ORDERED_REVENUE across all SKUs.\n",
        "Identify dates with significant spikes in total revenue or ordered units compared to surrounding days.\n",
        "These spikes likely correspond to sale events."
      ],
      "metadata": {
        "id": "PRrdSB1RcI-U"
      }
    },
    {
      "cell_type": "code",
      "source": [
        "# Group by date to get total revenue for each day\n",
        "daily_revenue = sales_data_cleaned.groupby('FEED_DATE')['ORDERED_REVENUE'].sum()\n",
        "\n",
        "# Identify dates with significant spikes in revenue\n",
        "# One approach is to calculate the percentage change and filter for large increases\n",
        "daily_revenue_change = daily_revenue.pct_change()\n",
        "\n",
        "# Filter dates with more than, say, a 50% increase in revenue\n",
        "sale_event_dates = daily_revenue_change[daily_revenue_change > 0.5].index\n",
        "\n",
        "# Display the sale event dates\n",
        "sale_event_dates"
      ],
      "metadata": {
        "colab": {
          "base_uri": "https://localhost:8080/"
        },
        "id": "XpdQy6OCcQZL",
        "outputId": "4f105ca6-d617-47a1-cd17-1dcbf3ee840c"
      },
      "execution_count": 7,
      "outputs": [
        {
          "output_type": "execute_result",
          "data": {
            "text/plain": [
              "DatetimeIndex(['2019-05-06', '2019-05-13', '2019-05-20', '2019-05-28',\n",
              "               '2019-06-03', '2019-06-10', '2019-06-17', '2019-06-20',\n",
              "               '2019-06-24', '2019-07-01', '2019-07-08', '2019-07-15',\n",
              "               '2019-07-22', '2019-07-26', '2019-07-29', '2019-08-05',\n",
              "               '2019-08-12', '2019-08-19', '2019-08-26'],\n",
              "              dtype='datetime64[ns]', name='FEED_DATE', freq=None)"
            ]
          },
          "metadata": {},
          "execution_count": 7
        }
      ]
    },
    {
      "cell_type": "markdown",
      "source": [
        "4.**Impact of Sale Event on Sales in the Immediate Aftermath\n",
        "python.**\n",
        "Compare Sales Before and After:\n",
        "Identify the dates immediately following a sale event.\n",
        "Compare the sales on these dates to the sales before the event.\n",
        "Statistical Metric:\n",
        "Use a paired t-test to compare the mean sales before and after the event to statistically determine if there was a significant drop."
      ],
      "metadata": {
        "id": "IjO_FrrycW8u"
      }
    },
    {
      "cell_type": "code",
      "source": [
        "# Assuming 'sale_event_dates' contains the identified sale dates\n",
        "\n",
        "# Analyze sales before and after each sale event\n",
        "for sale_date in sale_event_dates:\n",
        "    # Define the period before and after the sale\n",
        "    pre_sale_period = sales_data_cleaned[\n",
        "        (sales_data_cleaned['FEED_DATE'] < sale_date) &\n",
        "        (sales_data_cleaned['FEED_DATE'] >= sale_date - pd.Timedelta(days=7))\n",
        "    ]\n",
        "    post_sale_period = sales_data_cleaned[\n",
        "        (sales_data_cleaned['FEED_DATE'] > sale_date) &\n",
        "        (sales_data_cleaned['FEED_DATE'] <= sale_date + pd.Timedelta(days=7))\n",
        "    ]\n",
        "\n",
        "    # Compare total revenue before and after\n",
        "    pre_sale_revenue = pre_sale_period['ORDERED_REVENUE'].sum()\n",
        "    post_sale_revenue = post_sale_period['ORDERED_REVENUE'].sum()\n",
        "\n",
        "    print(f\"Sale Date: {sale_date}, Pre-Sale Revenue: {pre_sale_revenue}, Post-Sale Revenue: {post_sale_revenue}\")\n"
      ],
      "metadata": {
        "colab": {
          "base_uri": "https://localhost:8080/"
        },
        "id": "PkYsqltmcwTG",
        "outputId": "a01d2ad6-c180-41f4-9573-92051bb541ea"
      },
      "execution_count": 8,
      "outputs": [
        {
          "output_type": "stream",
          "name": "stdout",
          "text": [
            "Sale Date: 2019-05-06 00:00:00, Pre-Sale Revenue: 3074777.31, Post-Sale Revenue: 4486018.84\n",
            "Sale Date: 2019-05-13 00:00:00, Pre-Sale Revenue: 4556970.9399999995, Post-Sale Revenue: 4400656.049999999\n",
            "Sale Date: 2019-05-20 00:00:00, Pre-Sale Revenue: 4359598.05, Post-Sale Revenue: 4232201.17\n",
            "Sale Date: 2019-05-28 00:00:00, Pre-Sale Revenue: 4232201.17, Post-Sale Revenue: 4706277.73\n",
            "Sale Date: 2019-06-03 00:00:00, Pre-Sale Revenue: 4393036.66, Post-Sale Revenue: 4987765.23\n",
            "Sale Date: 2019-06-10 00:00:00, Pre-Sale Revenue: 4899033.26, Post-Sale Revenue: 5019054.779999999\n",
            "Sale Date: 2019-06-17 00:00:00, Pre-Sale Revenue: 5061168.66, Post-Sale Revenue: 5659293.07\n",
            "Sale Date: 2019-06-20 00:00:00, Pre-Sale Revenue: 4951890.68, Post-Sale Revenue: 5032527.46\n",
            "Sale Date: 2019-06-24 00:00:00, Pre-Sale Revenue: 5649354.2, Post-Sale Revenue: 5143365.89\n",
            "Sale Date: 2019-07-01 00:00:00, Pre-Sale Revenue: 5137927.15, Post-Sale Revenue: 4109601.5599999996\n",
            "Sale Date: 2019-07-08 00:00:00, Pre-Sale Revenue: 4182661.14, Post-Sale Revenue: 9071634.2\n",
            "Sale Date: 2019-07-15 00:00:00, Pre-Sale Revenue: 4681365.03, Post-Sale Revenue: 6969856.43\n",
            "Sale Date: 2019-07-22 00:00:00, Pre-Sale Revenue: 11296237.509999998, Post-Sale Revenue: 5368935.36\n",
            "Sale Date: 2019-07-26 00:00:00, Pre-Sale Revenue: 4758730.24, Post-Sale Revenue: 4919993.64\n",
            "Sale Date: 2019-07-29 00:00:00, Pre-Sale Revenue: 5457653.220000001, Post-Sale Revenue: 4974583.24\n",
            "Sale Date: 2019-08-05 00:00:00, Pre-Sale Revenue: 4887428.199999999, Post-Sale Revenue: 4833988.33\n",
            "Sale Date: 2019-08-12 00:00:00, Pre-Sale Revenue: 4842403.96, Post-Sale Revenue: 4955417.7700000005\n",
            "Sale Date: 2019-08-19 00:00:00, Pre-Sale Revenue: 4956374.279999999, Post-Sale Revenue: 4625557.59\n",
            "Sale Date: 2019-08-26 00:00:00, Pre-Sale Revenue: 4694946.45, Post-Sale Revenue: 3322167.01\n"
          ]
        }
      ]
    },
    {
      "cell_type": "markdown",
      "source": [
        "**Brownie Points:** Statistical Metric to Prove/Disprove"
      ],
      "metadata": {
        "id": "ttCkAJUPdqzb"
      }
    },
    {
      "cell_type": "code",
      "source": [
        "from scipy.stats import ttest_rel\n",
        "\n",
        "# Calculate total revenue before and after the sale for all sale events\n",
        "pre_sale_revenues = []\n",
        "post_sale_revenues = []\n",
        "\n",
        "for sale_date in sale_event_dates:\n",
        "    pre_sale_period = sales_data_cleaned[\n",
        "        (sales_data_cleaned['FEED_DATE'] < sale_date) &\n",
        "        (sales_data_cleaned['FEED_DATE'] >= sale_date - pd.Timedelta(days=7))\n",
        "    ]\n",
        "    post_sale_period = sales_data_cleaned[\n",
        "        (sales_data_cleaned['FEED_DATE'] > sale_date) &\n",
        "        (sales_data_cleaned['FEED_DATE'] <= sale_date + pd.Timedelta(days=7))\n",
        "    ]\n",
        "\n",
        "    pre_sale_revenues.append(pre_sale_period['ORDERED_REVENUE'].sum())\n",
        "    post_sale_revenues.append(post_sale_period['ORDERED_REVENUE'].sum())\n",
        "\n",
        "# Perform paired t-test\n",
        "t_stat, p_value = ttest_rel(pre_sale_revenues, post_sale_revenues)\n",
        "t_stat, p_value\n"
      ],
      "metadata": {
        "colab": {
          "base_uri": "https://localhost:8080/"
        },
        "id": "XtOwUUo0dtVY",
        "outputId": "38aae1d4-4fb3-45dd-e60a-dcdb76cde7d8"
      },
      "execution_count": 9,
      "outputs": [
        {
          "output_type": "execute_result",
          "data": {
            "text/plain": [
              "(-0.08618543237874104, 0.93227048033154)"
            ]
          },
          "metadata": {},
          "execution_count": 9
        }
      ]
    },
    {
      "cell_type": "markdown",
      "source": [
        "5. **Subcategory with the Slowest Growth in Each Category\n",
        "Calculate Growth:**\n",
        "For each subcategory, calculate the growth in revenue or units sold over the time period.\n",
        "Compare this to the growth of the entire category.\n",
        "Identify the Slowest Growth:\n",
        "For each category, identify the subcategory with the lowest growth relative to the overall category growth."
      ],
      "metadata": {
        "id": "PdwCmvALc9h_"
      }
    },
    {
      "cell_type": "code",
      "source": [
        "# Calculate growth for each subcategory by comparing the first and last date's revenue\n",
        "def calculate_growth(group):\n",
        "    first_revenue = group.loc[group['FEED_DATE'].idxmin()]['ORDERED_REVENUE']\n",
        "    last_revenue = group.loc[group['FEED_DATE'].idxmax()]['ORDERED_REVENUE']\n",
        "    growth = (last_revenue - first_revenue) / first_revenue if first_revenue > 0 else 0\n",
        "    return growth\n",
        "\n",
        "# Group by category and subcategory\n",
        "subcategory_growth = sales_data_cleaned.groupby(['CATEGORY', 'SUB_CATEGORY']).apply(calculate_growth)\n",
        "\n",
        "# Find the slowest growing subcategory in each category\n",
        "slowest_subcategories = subcategory_growth.groupby('CATEGORY').idxmin()\n",
        "\n",
        "# Display the result\n",
        "slowest_subcategories\n"
      ],
      "metadata": {
        "colab": {
          "base_uri": "https://localhost:8080/",
          "height": 429
        },
        "id": "arm73QvDdGF2",
        "outputId": "1adc7633-efd5-4b79-e865-23d7265c93d3"
      },
      "execution_count": 10,
      "outputs": [
        {
          "output_type": "execute_result",
          "data": {
            "text/plain": [
              "CATEGORY\n",
              "0100 Wireless Phones                 (0100 Wireless Phones, 0191 Connected Wearables)\n",
              "0400 Computer Peripherals           (0400 Computer Peripherals, 0430 Computer Head...\n",
              "1000 Inputs                                               (1000 Inputs, 1005 Webcams)\n",
              "10800 Xbox One Accessories               (10800 Xbox One Accessories, 10830 Headsets)\n",
              "1500 Tablet Accessories             (1500 Tablet Accessories, 1501 Tablet Carrying...\n",
              "1600 Sony PSP Games and Software    (1600 Sony PSP Games and Software, 1610 Classi...\n",
              "5000 Portable Media Players         (5000 Portable Media Players, 5010 Other Porta...\n",
              "5300 Headphones                                    (5300 Headphones, 5310 Headphones)\n",
              "5600 Video Components               (5600 Video Components, 5610 A/V Remote Controls)\n",
              "6200 PC Accessories                              (6200 PC Accessories, 6230 Headsets)\n",
              "dtype: object"
            ],
            "text/html": [
              "<div>\n",
              "<style scoped>\n",
              "    .dataframe tbody tr th:only-of-type {\n",
              "        vertical-align: middle;\n",
              "    }\n",
              "\n",
              "    .dataframe tbody tr th {\n",
              "        vertical-align: top;\n",
              "    }\n",
              "\n",
              "    .dataframe thead th {\n",
              "        text-align: right;\n",
              "    }\n",
              "</style>\n",
              "<table border=\"1\" class=\"dataframe\">\n",
              "  <thead>\n",
              "    <tr style=\"text-align: right;\">\n",
              "      <th></th>\n",
              "      <th>0</th>\n",
              "    </tr>\n",
              "    <tr>\n",
              "      <th>CATEGORY</th>\n",
              "      <th></th>\n",
              "    </tr>\n",
              "  </thead>\n",
              "  <tbody>\n",
              "    <tr>\n",
              "      <th>0100 Wireless Phones</th>\n",
              "      <td>(0100 Wireless Phones, 0191 Connected Wearables)</td>\n",
              "    </tr>\n",
              "    <tr>\n",
              "      <th>0400 Computer Peripherals</th>\n",
              "      <td>(0400 Computer Peripherals, 0430 Computer Head...</td>\n",
              "    </tr>\n",
              "    <tr>\n",
              "      <th>1000 Inputs</th>\n",
              "      <td>(1000 Inputs, 1005 Webcams)</td>\n",
              "    </tr>\n",
              "    <tr>\n",
              "      <th>10800 Xbox One Accessories</th>\n",
              "      <td>(10800 Xbox One Accessories, 10830 Headsets)</td>\n",
              "    </tr>\n",
              "    <tr>\n",
              "      <th>1500 Tablet Accessories</th>\n",
              "      <td>(1500 Tablet Accessories, 1501 Tablet Carrying...</td>\n",
              "    </tr>\n",
              "    <tr>\n",
              "      <th>1600 Sony PSP Games and Software</th>\n",
              "      <td>(1600 Sony PSP Games and Software, 1610 Classi...</td>\n",
              "    </tr>\n",
              "    <tr>\n",
              "      <th>5000 Portable Media Players</th>\n",
              "      <td>(5000 Portable Media Players, 5010 Other Porta...</td>\n",
              "    </tr>\n",
              "    <tr>\n",
              "      <th>5300 Headphones</th>\n",
              "      <td>(5300 Headphones, 5310 Headphones)</td>\n",
              "    </tr>\n",
              "    <tr>\n",
              "      <th>5600 Video Components</th>\n",
              "      <td>(5600 Video Components, 5610 A/V Remote Controls)</td>\n",
              "    </tr>\n",
              "    <tr>\n",
              "      <th>6200 PC Accessories</th>\n",
              "      <td>(6200 PC Accessories, 6230 Headsets)</td>\n",
              "    </tr>\n",
              "  </tbody>\n",
              "</table>\n",
              "</div><br><label><b>dtype:</b> object</label>"
            ]
          },
          "metadata": {},
          "execution_count": 10
        }
      ]
    },
    {
      "cell_type": "markdown",
      "source": [
        "\n",
        "6.**Highlight Any Anomalies or Data Quality Issues:**\n",
        "Missing Data: Rows where ORDERED_REVENUE or ORDERED_UNITS is zero but VIEWS is high, indicating a potential issue.\n",
        "Outliers: Extremely high or low values that don't make sense contextually (e.g., Price_Per_Unit anomalies).\n",
        "Inconsistent Data: For example, if a SKU has zero units ordered but a positive revenue, this should be flagged."
      ],
      "metadata": {
        "id": "8OdsOxcadGiH"
      }
    },
    {
      "cell_type": "code",
      "source": [
        "# Calculate price per unit and add it as a column\n",
        "sales_data_cleaned['Price_Per_Unit'] = sales_data_cleaned['ORDERED_REVENUE'] / sales_data_cleaned['ORDERED_UNITS']\n",
        "\n",
        "# Look for rows where units are 0 but revenue is positive\n",
        "anomalies_revenue_no_units = sales_data_cleaned[(sales_data_cleaned['ORDERED_UNITS'] == 0) & (sales_data_cleaned['ORDERED_REVENUE'] > 0)]\n",
        "\n",
        "# Look for outliers in the Price_Per_Unit column\n",
        "price_outliers = sales_data_cleaned[sales_data_cleaned['Price_Per_Unit'] > sales_data_cleaned['Price_Per_Unit'].quantile(0.99)]\n",
        "\n",
        "# Look for missing or strange values\n",
        "missing_data = sales_data_cleaned.isnull().sum()\n",
        "\n",
        "# Display the anomalies\n",
        "anomalies_revenue_no_units, price_outliers, missing_data"
      ],
      "metadata": {
        "colab": {
          "base_uri": "https://localhost:8080/"
        },
        "id": "PkN9s34zdVUh",
        "outputId": "42b063a7-5e82-4409-f64c-2073a2e24b9e"
      },
      "execution_count": 12,
      "outputs": [
        {
          "output_type": "execute_result",
          "data": {
            "text/plain": [
              "(         SKU_NAME  FEED_DATE                     CATEGORY  \\\n",
              " 2397   C124PR58CZ 2019-08-17                  1000 Inputs   \n",
              " 4028   B215GHP7Z7 2019-08-28                  1000 Inputs   \n",
              " 4788   D014[Y8YEZ 2019-06-23                  1000 Inputs   \n",
              " 4878   C024ZE\\C:9 2019-05-21                  1000 Inputs   \n",
              " 6222   B027LTJDHL 2019-08-31                  1000 Inputs   \n",
              " ...           ...        ...                          ...   \n",
              " 38575  B08MD1RCIY 2019-06-22              5300 Headphones   \n",
              " 38816  B17NJ;4CN7 2019-06-21                  1000 Inputs   \n",
              " 39650  C09OGREK9L 2019-07-17  5000 Portable Media Players   \n",
              " 39652  C09OGREK9L 2019-07-19  5000 Portable Media Players   \n",
              " 40932  D28QU2Q7[: 2019-05-21                  1000 Inputs   \n",
              " \n",
              "                           SUB_CATEGORY  ORDERED_REVENUE  ORDERED_UNITS  \\\n",
              " 2397                         1002 Mice             9.11            0.0   \n",
              " 4028                      1005 Webcams             6.03            0.0   \n",
              " 4788                      1005 Webcams             6.40            0.0   \n",
              " 4878   1004 Computer Headsets and Mics             1.99            0.0   \n",
              " 6222                         1002 Mice             1.05            0.0   \n",
              " ...                                ...              ...            ...   \n",
              " 38575                  5310 Headphones            30.00            0.0   \n",
              " 38816  1004 Computer Headsets and Mics            30.00            0.0   \n",
              " 39650        5010 Other Portable Audio            20.00            0.0   \n",
              " 39652        5010 Other Portable Audio            20.00            0.0   \n",
              " 40932           1003 Computer Speakers            24.00            0.0   \n",
              " \n",
              "        REP_OOS  Price_Per_Unit  \n",
              " 2397      6.02             inf  \n",
              " 4028     89.30             inf  \n",
              " 4788     95.57             inf  \n",
              " 4878     95.45             inf  \n",
              " 6222     95.09             inf  \n",
              " ...        ...             ...  \n",
              " 38575     0.00             inf  \n",
              " 38816     7.00             inf  \n",
              " 39650     0.00             inf  \n",
              " 39652     0.00             inf  \n",
              " 40932     0.00             inf  \n",
              " \n",
              " [94 rows x 8 columns],\n",
              "          SKU_NAME  FEED_DATE                     CATEGORY  \\\n",
              " 2397   C124PR58CZ 2019-08-17                  1000 Inputs   \n",
              " 4028   B215GHP7Z7 2019-08-28                  1000 Inputs   \n",
              " 4788   D014[Y8YEZ 2019-06-23                  1000 Inputs   \n",
              " 4878   C024ZE\\C:9 2019-05-21                  1000 Inputs   \n",
              " 6222   B027LTJDHL 2019-08-31                  1000 Inputs   \n",
              " ...           ...        ...                          ...   \n",
              " 38575  B08MD1RCIY 2019-06-22              5300 Headphones   \n",
              " 38816  B17NJ;4CN7 2019-06-21                  1000 Inputs   \n",
              " 39650  C09OGREK9L 2019-07-17  5000 Portable Media Players   \n",
              " 39652  C09OGREK9L 2019-07-19  5000 Portable Media Players   \n",
              " 40932  D28QU2Q7[: 2019-05-21                  1000 Inputs   \n",
              " \n",
              "                           SUB_CATEGORY  ORDERED_REVENUE  ORDERED_UNITS  \\\n",
              " 2397                         1002 Mice             9.11            0.0   \n",
              " 4028                      1005 Webcams             6.03            0.0   \n",
              " 4788                      1005 Webcams             6.40            0.0   \n",
              " 4878   1004 Computer Headsets and Mics             1.99            0.0   \n",
              " 6222                         1002 Mice             1.05            0.0   \n",
              " ...                                ...              ...            ...   \n",
              " 38575                  5310 Headphones            30.00            0.0   \n",
              " 38816  1004 Computer Headsets and Mics            30.00            0.0   \n",
              " 39650        5010 Other Portable Audio            20.00            0.0   \n",
              " 39652        5010 Other Portable Audio            20.00            0.0   \n",
              " 40932           1003 Computer Speakers            24.00            0.0   \n",
              " \n",
              "        REP_OOS  Price_Per_Unit  \n",
              " 2397      6.02             inf  \n",
              " 4028     89.30             inf  \n",
              " 4788     95.57             inf  \n",
              " 4878     95.45             inf  \n",
              " 6222     95.09             inf  \n",
              " ...        ...             ...  \n",
              " 38575     0.00             inf  \n",
              " 38816     7.00             inf  \n",
              " 39650     0.00             inf  \n",
              " 39652     0.00             inf  \n",
              " 40932     0.00             inf  \n",
              " \n",
              " [279 rows x 8 columns],\n",
              " SKU_NAME               0\n",
              " FEED_DATE              0\n",
              " CATEGORY               0\n",
              " SUB_CATEGORY           0\n",
              " ORDERED_REVENUE        0\n",
              " ORDERED_UNITS          0\n",
              " REP_OOS              689\n",
              " Price_Per_Unit     12918\n",
              " dtype: int64)"
            ]
          },
          "metadata": {},
          "execution_count": 12
        }
      ]
    },
    {
      "cell_type": "markdown",
      "source": [
        "7. **Is Unit Conversion (Units/Views) Affected by Average Selling Price for SKU C120[H:8NV?**\n",
        "Analyze Unit Conversion:\n",
        "Calculate the conversion rate (UNITS / VIEWS) for this SKU over the time period.\n",
        "Plot this conversion rate against the average selling price (ORDERED_REVENUE / ORDERED_UNITS).\n",
        "Statistical Technique:\n",
        "Perform a correlation analysis to determine if there is a relationship between conversion rate and selling price.\n",
        "A regression analysis could help quantify the impact of price on conversion."
      ],
      "metadata": {
        "id": "fLuG3tPmdVsz"
      }
    },
    {
      "cell_type": "code",
      "source": [
        "# Calculate conversion rate (Units / Views)\n",
        "sku_data = sku_data.merge(glance_views_cleaned, on=['SKU_NAME', 'FEED_DATE'], suffixes=('_sales', '_views')) # Add suffixes to distinguish columns from the two dataframes\n",
        "sku_data['Conversion_Rate'] = sku_data['UNITS_views'] / sku_data['VIEWS_views'] # Use the correct column name 'VIEWS_views' after the merge\n",
        "\n",
        "# Plot conversion rate against average selling price\n",
        "import matplotlib.pyplot as plt\n",
        "\n",
        "plt.scatter(sku_data['Price_Per_Unit'], sku_data['Conversion_Rate'])\n",
        "plt.xlabel('Average Selling Price')\n",
        "plt.ylabel('Conversion Rate')\n",
        "plt.title('Conversion Rate vs. Average Selling Price for SKU C120[H:8NV')\n",
        "plt.show()\n",
        "\n",
        "# Statistical analysis (correlation)\n",
        "correlation = sku_data[['Price_Per_Unit', 'Conversion_Rate']].corr().iloc[0,1]\n",
        "correlation"
      ],
      "metadata": {
        "colab": {
          "base_uri": "https://localhost:8080/",
          "height": 489
        },
        "id": "aWZEJugOdfzK",
        "outputId": "f6257799-781f-49f1-a37c-4ed55b11fe9a"
      },
      "execution_count": 15,
      "outputs": [
        {
          "output_type": "display_data",
          "data": {
            "text/plain": [
              "<Figure size 640x480 with 1 Axes>"
            ],
            "image/png": "[encoded data removed]"
          },
          "metadata": {}
        },
        {
          "output_type": "execute_result",
          "data": {
            "text/plain": [
              "-0.029776602675128893"
            ]
          },
          "metadata": {},
          "execution_count": 15
        }
      ]
    }
  ]
}